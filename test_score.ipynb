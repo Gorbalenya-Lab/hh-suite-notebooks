{
 "cells": [
  {
   "cell_type": "markdown",
   "metadata": {},
   "source": [
    "## Study of the score calibration procedure used by HH-Suite"
   ]
  },
  {
   "cell_type": "markdown",
   "metadata": {},
   "source": [
    "The neural network calibration used by default in HHsearch/HHblits/HHalign controls how hit score value is converted to the reported $P{\\text -}value, E{\\text -}value$, and $Probability$ for each reported hit.<br>\n",
    "In HH-Suite v.2.x there is an option, \"-calm\" that can switch off this mode, whereas in HH-Suite v.3.x this option was deleted.<br>\n",
    "See the [User Guide](https://github.com/soedinglab/hh-suite/wiki#dont-i-need-to-calibrate-my-query-or-database-hmm) for brief description of this feature."
   ]
  },
  {
   "cell_type": "markdown",
   "metadata": {},
   "source": [
    "Note: Use **Shift+Enter** to execute the code cells below. The order of execution is important (top to bottom). When some cell is modified it should be re-executed (all the dependent cells might also need update, **Cell/Run All Below** menu command does this).<br>**Ctrl-Z** undoes cell changes.<br>\n",
    "**Kernel/Restart** menu command restarts the notebook from clean state."
   ]
  },
  {
   "cell_type": "code",
   "execution_count": 1,
   "metadata": {},
   "outputs": [
    {
     "name": "stdout",
     "output_type": "stream",
     "text": [
      "Populating the interactive namespace from numpy and matplotlib\n"
     ]
    }
   ],
   "source": [
    "import os\n",
    "import sys\n",
    "import csv\n",
    "import math\n",
    "import copy as cp\n",
    "import numpy as np\n",
    "import matplotlib.pyplot as plt\n",
    "from matplotlib.colors import LogNorm\n",
    "\n",
    "%pylab inline\n",
    "# print(numpy.__version__)\n",
    "# print(matplotlib.__version__)"
   ]
  },
  {
   "cell_type": "markdown",
   "metadata": {},
   "source": [
    "These functions are adapted from HH-Suite 2.0.16 C++ code:"
   ]
  },
  {
   "cell_type": "code",
   "execution_count": 2,
   "metadata": {},
   "outputs": [],
   "source": [
    "class Hit:\n",
    "    def __init__(self, **kwargs):\n",
    "        self.__dict__.update(kwargs)\n",
    "    def __repr__(self):\n",
    "        return str(self.__dict__)\n",
    "\n",
    "def CalculatePvalues(h):\n",
    "    log1000 = math.log(1000.0)\n",
    "    query_log_len = math.log(h.q_L)/log1000\n",
    "    hit_log_len = math.log(h.t_L)/log1000\n",
    "    h.lamda = lamda_NN(query_log_len, hit_log_len, h.q_Neff/10.0, h.t_Neff/10.0)\n",
    "    h.mu = mu_NN(query_log_len, hit_log_len, h.q_Neff/10.0, h.t_Neff/10.0)\n",
    "    h.logPval = logPvalue(h.score,h.lamda,h.mu)\n",
    "    h.Pval = Pvalue(h.score,h.lamda,h.mu)\n",
    "    h.Eval = math.exp(h.logPval + math.log(h.N_searched))\n",
    "    h.logEval = h.logPval + math.log(h.N_searched)\n",
    "    if h.logPval < -10.0:\n",
    "        x = h.logPval\n",
    "    else:\n",
    "        # try:\n",
    "        x = math.log(-math.log(1-h.Pval))\n",
    "        #except ValueError:\n",
    "        #    print(\"ValueError:\", h.Pval, h.logPval, h.score, h.lamda, h.mu, file=sys.stderr)\n",
    "        #    x = h.logPval\n",
    "    h.score_aass = x/0.45 - min(h.lamda*h.score_ss,max(0.0,0.2*(h.score-8.0)))/0.45 - 3.0\n",
    "    h.Probab = Probab(-h.score_aass, h.score_ss != 0.0)\n",
    "\n",
    "def calc_hidden_output(weights, bias, Lqnorm, Ltnorm, Nqnorm, Ntnorm):\n",
    "    \"Calculate output of hidden neural network units\"\n",
    "    # Calculate activation of hidden unit = sum of all inputs * weights + bias\n",
    "    res = Lqnorm*weights[0] + Ltnorm*weights[1] + Nqnorm*weights[2] + Ntnorm*weights[3] + bias\n",
    "    res = 1.0 / (1.0 + math.exp(-(res))) # logistic function\n",
    "    return res\n",
    "\n",
    "def lamda_NN(Lqnorm, Ltnorm, Nqnorm, Ntnorm):\n",
    "    \"Neural network regressions of lamda for EVD\"\n",
    "    inputs = 4\n",
    "    hidden = 4\n",
    "    biases = [-0.73195, -1.43792, -1.18839, -3.01141] # bias for all hidden units\n",
    "    weights = [ # Weights for the neural networks (column = start unit, row = end unit)\n",
    "        -0.52356, -3.37650, 1.12984, -0.46796,\n",
    "        -4.71361, 0.14166, 1.66807, 0.16383,\n",
    "        -0.94895, -1.24358, -1.20293, 0.95434,\n",
    "        -0.00318, 0.53022, -0.04914, -0.77046,\n",
    "        2.45630, 3.02905, 2.53803, 2.64379\n",
    "    ]\n",
    "    lamda=0.0\n",
    "    for h in range(hidden):\n",
    "        lamda += calc_hidden_output(weights[inputs*h:], biases[h], Lqnorm,Ltnorm,Nqnorm,Ntnorm) * weights[hidden*inputs+h]\n",
    "    return lamda\n",
    "\n",
    "def mu_NN(Lqnorm, Ltnorm, Nqnorm, Ntnorm):\n",
    "    \"Neural network regressions of mu for EVD\"\n",
    "    inputs = 4\n",
    "    hidden = 6\n",
    "    biases = [-4.25264, -3.63484, -5.86653, -4.78472, -2.76356, -2.21580]  # bias for all hidden units\n",
    "    weights = [ # Weights for the neural networks (column = start unit, row = end unit)\n",
    "        1.96172, 1.07181, -7.41256, 0.26471,\n",
    "        0.84643, 1.46777, -1.04800, -0.51425,\n",
    "        1.42697, 1.99927, 0.64647, 0.27834,\n",
    "        1.34216, 1.64064, 0.35538, -8.08311,\n",
    "        2.30046, 1.31700, -0.46435, -0.46803,\n",
    "        0.90090, -3.53067, 0.59212, 1.47503,\n",
    "        -1.26036, 1.52812, 1.58413, -1.90409, 0.92803, -0.66871\n",
    "    ]\n",
    "    mu=0.0\n",
    "    for h in range(hidden):\n",
    "        mu += calc_hidden_output(weights[inputs*h:], biases[h], Lqnorm,Ltnorm,Nqnorm,Ntnorm) * weights[hidden*inputs+h]\n",
    "    return 20.0*mu\n",
    "\n",
    "def Pvalue(x, lamda, mu):\n",
    "    h = lamda*(x-mu)\n",
    "    if h > 10:\n",
    "        return math.exp(-h)\n",
    "    else:\n",
    "        return 1.0 - math.exp(-math.exp(-h))\n",
    "\n",
    "def logPvalue(x, lamda, mu):\n",
    "    h = lamda*(x-mu)\n",
    "    if h > 10:\n",
    "        return -h\n",
    "    else:\n",
    "        if h < -2.5:\n",
    "            return -math.exp(-math.exp(-h))\n",
    "        else:\n",
    "            return math.log((1.0 - math.exp(-math.exp(-h))))\n",
    "\n",
    "def Probab(s, has_ss):\n",
    "    \"\"\"\n",
    "    Calculate probability of true positive : p_TP(score)/( p_TP(score)+p_FP(score) )\n",
    "    TP: same superfamily OR MAXSUB score >=0.1\n",
    "    \"\"\"\n",
    "    if s > 200:\n",
    "        return 100.0\n",
    "    if has_ss:\n",
    "        # local with SS\n",
    "        a=math.sqrt(6000.0)\n",
    "        b=2.0*2.5\n",
    "        c=math.sqrt(0.12)\n",
    "        d=2.0*32.0\n",
    "    else:\n",
    "        # local no SS\n",
    "        a=math.sqrt(4000.0)\n",
    "        b=2.0*2.5\n",
    "        c=math.sqrt(0.15)\n",
    "        d=2.0*34.0\n",
    "    t = a*math.exp(-s/b) + c*math.exp(-s/d)\n",
    "    return 100.0/(1.0+t*t) # ??? JS Jul'12"
   ]
  },
  {
   "cell_type": "markdown",
   "metadata": {},
   "source": [
    "Hit data from HHsearch results (profile's Neff can be found in the header of HMM file).<br>\n",
    "The precise $Score$, $P{\\text -}value$, and $Probability$ values are taken by modifying HHsearch source."
   ]
  },
  {
   "cell_type": "code",
   "execution_count": 3,
   "metadata": {},
   "outputs": [
    {
     "name": "stdout",
     "output_type": "stream",
     "text": [
      "HHsearch Probability: 68.88\n",
      "HHsearch P-value: 0.00019\n",
      "Calculated Probability: 68.8613831403745\n",
      "Calculated P-value: 0.00019102419780780977\n",
      "\n",
      "HHsearch Probability: 95.48\n",
      "HHsearch P-value: 9.2e-07\n",
      "Calculated Probability: 95.48373151255005\n",
      "Calculated P-value: 9.20154413010807e-07\n",
      "\n"
     ]
    }
   ],
   "source": [
    "# Describe hits explicitly\n",
    "hits = [\n",
    "# NP_690588.1_1-2474 vs. PF01728.18 (iteration_1)\n",
    "Hit(score=40.7270432, score_ss=-0.0733758, q_Neff=1.0, t_Neff=11.7, q_L=2474, t_L=183, N_searched=1,\n",
    "    Probab_HH=77.7733154, Pval_HH=1.50802e-05, query='NP_690588.1', query_coords='1-2474',\n",
    "    target='PF01728.18', iteration='1', comment='iteration #1'),\n",
    "# NP_690588.1_1166-1348 vs. PF01728.18 (iteration_2)\n",
    "Hit(score=39.3617821, score_ss=-0.0733758, q_Neff=1.0, t_Neff=11.7, q_L=(1348-1166+1), t_L=183, N_searched=1,\n",
    "    Probab_HH=95.1556091, Pval_HH=1.15029e-07, query='NP_690588.1', query_coords='1166-1348',\n",
    "    target='PF01728.18', iteration='2', comment='iteration #2')\n",
    "]\n",
    "\n",
    "# OR read hits from a file\n",
    "csv_file = 'YP_009126871.csv'\n",
    "# csv_file = 'NP_690588.csv'\n",
    "# csv_file = 'YP_009052475.csv'\n",
    "\n",
    "if csv_file != '':\n",
    "    f = open(csv_file)\n",
    "\n",
    "    hits = []\n",
    "    csv_reader = csv.reader(f)\n",
    "    for r in csv_reader:\n",
    "        if r[0] == 'Query':\n",
    "            continue\n",
    "        h = Hit(\n",
    "            query=r[0],\n",
    "            query_coords=r[1],\n",
    "            target=r[2],\n",
    "            iteration=r[3],\n",
    "            comment=r[4],\n",
    "            Probab_HH=float(r[5]),\n",
    "            Pval_HH=float(r[6]),\n",
    "            score=float(r[7]),\n",
    "            score_ss=float(r[8]),\n",
    "            q_L=int(r[9]),\n",
    "            t_L=int(r[10]),\n",
    "            q_Neff=float(r[11]),\n",
    "            t_Neff=float(r[12]),\n",
    "            N_searched=1,\n",
    "           )\n",
    "        hits.append(h)\n",
    "\n",
    "print_probab_pval = True\n",
    "\n",
    "for h in hits:\n",
    "    CalculatePvalues(h)\n",
    "\n",
    "    if print_probab_pval:\n",
    "        print('HHsearch Probability:', h.Probab_HH)\n",
    "        print('HHsearch P-value:', h.Pval_HH)\n",
    "        print('Calculated Probability:', h.Probab)\n",
    "        print('Calculated P-value:', h.Pval)\n",
    "        print('')\n"
   ]
  },
  {
   "cell_type": "markdown",
   "metadata": {},
   "source": [
    "The above values match, it confirms that this calculation is correct (relative error $\\approx$ 1e-06 for NP_690588.1 vs. PF01728.18 where precise HHsearch score and probability are known &ndash; modified HHsearch output was used)."
   ]
  },
  {
   "cell_type": "markdown",
   "metadata": {},
   "source": [
    "### Probability as a function of query / target diversities"
   ]
  },
  {
   "cell_type": "code",
   "execution_count": 4,
   "metadata": {},
   "outputs": [],
   "source": [
    "X = np.logspace(1, 6, num=51, base=10)\n",
    "# print(X)\n",
    "\n",
    "h = cp.copy(hits[0])\n",
    "\n",
    "def resetHit():\n",
    "    global h\n",
    "    h = cp.copy(hits[0])\n",
    "\n",
    "def getEvalueQLen(q_len):\n",
    "    h.q_L = q_len\n",
    "    CalculatePvalues(h)\n",
    "    return h.Pval\n",
    "\n",
    "def getEvalueTLen(t_len):\n",
    "    h.t_L = t_len\n",
    "    CalculatePvalues(h)\n",
    "    return h.Pval\n",
    "\n",
    "def testLengths(Z, func):\n",
    "    for i, x in enumerate(X):\n",
    "        resetHit()\n",
    "        Z[i] = func(x)\n",
    "\n",
    "def getProbabQLen(q_len):\n",
    "    h.q_L = q_len\n",
    "    CalculatePvalues(h)\n",
    "    return h.Probab\n",
    "\n",
    "def getProbabTLen(t_len):\n",
    "    h.t_L = t_len\n",
    "    CalculatePvalues(h)\n",
    "    return h.Probab"
   ]
  },
  {
   "cell_type": "code",
   "execution_count": 5,
   "metadata": {
    "scrolled": false
   },
   "outputs": [
    {
     "data": {
      "image/png": "[encoded data removed]",
      "text/plain": [
       "<Figure size 468x720 with 2 Axes>"
      ]
     },
     "metadata": {
      "needs_background": "light"
     },
     "output_type": "display_data"
    }
   ],
   "source": [
    "fig, (ax1, ax2) = plt.subplots(2, 1, sharex=True)\n",
    "fig.set_size_inches(6.5,10)\n",
    "\n",
    "QPval = X.copy()\n",
    "testLengths(QPval, getEvalueQLen)\n",
    "\n",
    "TPval = X.copy()\n",
    "testLengths(TPval, getEvalueTLen)\n",
    "# E-value = P-value (database size = 1)\n",
    "color = next(ax1._get_lines.prop_cycler)['color']\n",
    "markers = ['D', 'o', 'x', '+']\n",
    "fix_scores = False # set to True if scores for iterations 2, 3, ... are by some reason different from iteration 1\n",
    "\n",
    "# ax1.loglog(X, QPval, linestyle='--', label='query', c=color)\n",
    "# ax1.loglog(X, TPval, linestyle='-.', label='target')\n",
    "ax1.loglog(X, QPval, marker='o', markersize=3, linestyle='', label='query', c=color)\n",
    "ax1.loglog(X, TPval, marker='o', markersize=3, linestyle='', label='target')\n",
    "ax1.plot(X, [hits[0].Pval] * len(X), '-', zorder=0, label='original E-value')\n",
    "\n",
    "\n",
    "for (i, h) in enumerate(hits):\n",
    "    if i > 0 and fix_scores:\n",
    "        h.score = hits[0].score\n",
    "        h.score_ss = hits[0].score_ss\n",
    "        CalculatePvalues(h)\n",
    "    ax1.scatter([h.q_L], [h.Pval], zorder=4, label=h.comment, marker=markers[i], c=color, s=64)\n",
    "\n",
    "\n",
    "ax1.set_ylabel('E-value');\n",
    "ax1.legend()\n",
    "ax1.grid(True)\n",
    "ax1.set_title('A', weight=550, size=12, loc='left')\n",
    "ax1.set_xlabel('L, query or target length')\n",
    "ax1.xaxis.set_tick_params(which='both', labelbottom=True)\n",
    "\n",
    "QPval = X.copy()\n",
    "testLengths(QPval, getProbabQLen)\n",
    "\n",
    "TPval = X.copy()\n",
    "testLengths(TPval, getProbabTLen)\n",
    "\n",
    "color = next(ax2._get_lines.prop_cycler)['color']\n",
    "# ax2.semilogx(X, QPval, marker='o', markersize=1, linestyle='--', label='query', c=color)\n",
    "# ax2.semilogx(X, TPval, linestyle='-.', label='target')\n",
    "ax2.semilogx(X, QPval, marker='o', markersize=3, linestyle='', label='query', c=color)\n",
    "ax2.semilogx(X, TPval, marker='o', markersize=3, linestyle='', label='target')\n",
    "ax2.plot(X, [hits[0].Probab] * len(X), '-', zorder=0, label='original probability')\n",
    "ax2.plot(X, [95] * len(X), '-', zorder=0, label='95% threshold')\n",
    "\n",
    "for (i, h) in enumerate(hits):\n",
    "    ax2.scatter([h.q_L], [h.Probab], zorder=4, label=h.comment, marker=markers[i], c=color, s=64)\n",
    "\n",
    "ax2.set_ylabel('Probability');\n",
    "ax2.legend()\n",
    "ax2.grid(True)\n",
    "ax2.set_title('B', weight=550, size=12, loc='left')\n",
    "ax2.set_xlabel('L, query or target length')\n",
    "\n",
    "plt.subplots_adjust(hspace=0.3)\n",
    "pdffile = '{}-{}.pdf'.format(hits[0].query, hits[0].target)\n",
    "plt.savefig(pdffile, format='PDF')"
   ]
  },
  {
   "cell_type": "markdown",
   "metadata": {},
   "source": [
    "#### Min. query length that generates Probability = 95% for a given score"
   ]
  },
  {
   "cell_type": "markdown",
   "metadata": {},
   "source": [
    "This study concerns about up-voting of the hits for short query and target profiles. "
   ]
  },
  {
   "cell_type": "code",
   "execution_count": 6,
   "metadata": {},
   "outputs": [],
   "source": [
    "# scores\n",
    "S = np.linspace(1, 100, num=100)\n",
    "# print(S)\n",
    "\n",
    "h = cp.copy(hits[0])\n",
    "\n",
    "def getEvalueQLen(q_len):\n",
    "    h.q_L = q_len\n",
    "    CalculatePvalues(h)\n",
    "    return h.Pval\n",
    "\n",
    "def findQLenForProbab(score, probab, t_len=None, t_neff=None):\n",
    "    a = 0\n",
    "    b = 1000000\n",
    "    count = 0\n",
    "    while a < b and count < 30:\n",
    "        count += 1\n",
    "        c = (a + b) / 2\n",
    "        resetHit()\n",
    "        h.score = score\n",
    "        h.score_ss = 0\n",
    "        h.q_L = c\n",
    "        if t_len is not None:\n",
    "            h.t_L = t_len\n",
    "        if t_neff is not None:\n",
    "            h.t_Neff = t_neff\n",
    "        try:\n",
    "            CalculatePvalues(h)\n",
    "        except ValueError:\n",
    "            # print(\"ValueError:\", h.q_L, h.score, h.lamda, h.mu, file=sys.stderr)\n",
    "            h.Pval = 1\n",
    "            h.logPval = 0\n",
    "            h.Probab = 0\n",
    "\n",
    "        if h.Probab > probab:\n",
    "            a = c\n",
    "        else:\n",
    "            b = c\n",
    "    return int(a + 0.5)\n",
    "    \n",
    "def testScores(Z, probab=95, t_len=None, t_neff=None):\n",
    "    for i, s in enumerate(S):\n",
    "        Z[i] = findQLenForProbab(s, probab, t_len, t_neff)\n",
    "\n",
    "QL_T132_NE6 = np.zeros(len(S), dtype=np.int)\n",
    "QL_T50_NE6 = np.zeros(len(S), dtype=np.int)\n",
    "QL_T132_NE15 = np.zeros(len(S), dtype=np.int)\n",
    "QL_T50_NE15 = np.zeros(len(S), dtype=np.int)\n",
    "\n",
    "# PfamA profile lengths: median=132, mean=176; N_eff: median=6.5, mean=6.55, min=1.0, max=15.8\n",
    "testScores(QL_T132_NE6, 95, 132, 6.5)\n",
    "testScores(QL_T50_NE6, 95, 50, 6.5)\n",
    "testScores(QL_T132_NE15, 95, 132, 15)\n",
    "testScores(QL_T50_NE15, 95, 50, 15)\n",
    "\n",
    "# print(list(zip(S, QL_T132_NE6)))"
   ]
  },
  {
   "cell_type": "code",
   "execution_count": 7,
   "metadata": {},
   "outputs": [],
   "source": [
    "from matplotlib.path import Path\n",
    "import matplotlib.patches as patches"
   ]
  },
  {
   "cell_type": "code",
   "execution_count": 8,
   "metadata": {},
   "outputs": [],
   "source": [
    "verts = [\n",
    "    (0, 50),\n",
    "    (40., 50),\n",
    "    (40., 200.),\n",
    "    (0, 200.),\n",
    "    (0, 50)\n",
    "]\n",
    "\n",
    "codes = [\n",
    "    Path.MOVETO,\n",
    "    Path.LINETO,\n",
    "    Path.LINETO,\n",
    "    Path.LINETO,\n",
    "    Path.CLOSEPOLY,\n",
    "]\n",
    "\n",
    "path = Path(verts, codes)"
   ]
  },
  {
   "cell_type": "code",
   "execution_count": 9,
   "metadata": {},
   "outputs": [
    {
     "data": {
      "image/png": "[encoded data removed]",
      "text/plain": [
       "<Figure size 432x288 with 1 Axes>"
      ]
     },
     "metadata": {
      "needs_background": "light"
     },
     "output_type": "display_data"
    }
   ],
   "source": [
    "fig, ax = plt.subplots()\n",
    "plot(S, QL_T132_NE6, label='target L=132, $N_{eff}=6.5$', color='blue', marker='', linestyle='-', linewidth=2)\n",
    "plot(S, QL_T50_NE6, label='target L=50,   $N_{eff}=6.5$', color='orange', marker='', linestyle='--', linewidth=2)\n",
    "plot(S, QL_T132_NE15, label='target L=132, $N_{eff}=15$', color='green', marker='', linestyle='-.', linewidth=2)\n",
    "plot(S, QL_T50_NE15, label='target L=50,   $N_{eff}=15$', color='red', marker='', linestyle=':', linewidth=2)\n",
    "\n",
    "plt.xlabel('Hit score')\n",
    "plt.ylabel('Query length, L')\n",
    "\n",
    "plt.title(\"\")\n",
    "\n",
    "patch = patches.PathPatch(path, facecolor='lightgray', lw=1)\n",
    "ax.add_patch(patch)\n",
    "\n",
    "\n",
    "plt.legend()\n",
    "plt.ylim(0, 200)\n",
    "plt.xlim(0, 60)\n",
    "ax.grid(True)\n",
    "plt.savefig('qlen_by_score_p95.pdf', format='PDF')"
   ]
  },
  {
   "cell_type": "markdown",
   "metadata": {},
   "source": [
    "This figure shows max. query length that gives Probability=95% for a given score, target length ($L$) and target sequence diversity ($N_{eff}$). Gray rectangle shows area of FP hits of min. length 50aa if max. FP score is 40.0 (supposedly). Therefore the gray area under the lines presents possibilities for false hits with Probability > 95%. PfamA database has median profile length 132aa and diversity $N_{eff}=6.5$ (min. $N_{eff}=1.0$, max. $N_{eff}=15$). It follows that there is no gray area under the target $L=132aa$, $N_{eff}=6.5$. However, for shorter targets ($L=50aa$) and/or target profiles with higher diversity ($N_{eff}=6.5..15$) false hits with scores as low as 23.0 could be attributed with probability >95%."
   ]
  },
  {
   "cell_type": "markdown",
   "metadata": {},
   "source": [
    "Straightforward check for the probability=95% cases:"
   ]
  },
  {
   "cell_type": "code",
   "execution_count": 10,
   "metadata": {},
   "outputs": [
    {
     "name": "stdout",
     "output_type": "stream",
     "text": [
      "{'score': 23.0, 'score_ss': 0, 'q_Neff': 1.0, 't_Neff': 15, 'q_L': 50, 't_L': 50, 'N_searched': 1, 'lamda': 0.8281435009894186, 'mu': 1.7486599093904132, 'logPval': -17.599159183354214, 'Pval': 2.2739571702268868e-08, 'Eval': 2.2739571702268868e-08, 'logEval': -17.599159183354214, 'score_aass': -42.10924262967603, 'Probab': 95.28633201048132}\n"
     ]
    }
   ],
   "source": [
    "# test_hit = Hit(score=39.0, score_ss=0, q_Neff=1.0, t_Neff=6.5, q_L=45, t_L=132, N_searched=1)\n",
    "# test_hit = Hit(score=20.0, score_ss=0, q_Neff=1.0, t_Neff=15, q_L=25, t_L=50, N_searched=1)\n",
    "test_hit = Hit(score=23.0, score_ss=0, q_Neff=1.0, t_Neff=15, q_L=50, t_L=50, N_searched=1)\n",
    "CalculatePvalues(test_hit)\n",
    "print(test_hit)"
   ]
  },
  {
   "cell_type": "code",
   "execution_count": null,
   "metadata": {},
   "outputs": [],
   "source": []
  }
 ],
 "metadata": {
  "kernelspec": {
   "display_name": "Python 3",
   "language": "python",
   "name": "python3"
  },
  "language_info": {
   "codemirror_mode": {
    "name": "ipython",
    "version": 3
   },
   "file_extension": ".py",
   "mimetype": "text/x-python",
   "name": "python",
   "nbconvert_exporter": "python",
   "pygments_lexer": "ipython3",
   "version": "3.7.3"
  }
 },
 "nbformat": 4,
 "nbformat_minor": 1
}
