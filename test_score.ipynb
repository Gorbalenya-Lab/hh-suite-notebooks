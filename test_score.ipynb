{
 "cells": [
  {
   "cell_type": "markdown",
   "metadata": {},
   "source": [
    "## Study of the score calibration used by HH-Suite"
   ]
  },
  {
   "cell_type": "markdown",
   "metadata": {},
   "source": [
    "The neural network calibration used by default in HHsearch/HHblits/HHalign controls how hit score value is converted to the reported p-value, e-value, and probability for each search hit.\n",
    "In HH-Suite v.2.x there is an option, \"-calm\" that can switch off this mode, whereas in HH-Suite v.3.x this option was deleted."
   ]
  },
  {
   "cell_type": "code",
   "execution_count": 60,
   "metadata": {},
   "outputs": [
    {
     "name": "stdout",
     "output_type": "stream",
     "text": [
      "Populating the interactive namespace from numpy and matplotlib\n"
     ]
    },
    {
     "data": {
      "text/plain": [
       "'3.0.3'"
      ]
     },
     "execution_count": 60,
     "metadata": {},
     "output_type": "execute_result"
    }
   ],
   "source": [
    "import os\n",
    "import sys\n",
    "import math\n",
    "import copy as cp\n",
    "import numpy as np\n",
    "import matplotlib.pyplot as plt\n",
    "from matplotlib.colors import LogNorm\n",
    "\n",
    "%pylab inline\n",
    "numpy.__version__\n",
    "matplotlib.__version__"
   ]
  },
  {
   "cell_type": "markdown",
   "metadata": {},
   "source": [
    "These functions are adapted from HH-Suite 2.0.16 C++ code:"
   ]
  },
  {
   "cell_type": "code",
   "execution_count": 24,
   "metadata": {},
   "outputs": [],
   "source": [
    "class Hit:\n",
    "    def __init__(self, **kwargs):\n",
    "        self.__dict__.update(kwargs)\n",
    "\n",
    "def CalculatePvalues(h):\n",
    "    log1000 = math.log(1000.0)\n",
    "    query_log_len = math.log(h.q_L)/log1000\n",
    "    hit_log_len = math.log(h.t_L)/log1000\n",
    "    h.lamda = lamda_NN(query_log_len, hit_log_len, h.q_Neff/10.0, h.t_Neff/10.0)\n",
    "    h.mu = mu_NN(query_log_len, hit_log_len, h.q_Neff/10.0, h.t_Neff/10.0)\n",
    "    h.logPval = logPvalue(h.score,h.lamda,h.mu)\n",
    "    h.Pval = Pvalue(h.score,h.lamda,h.mu)\n",
    "    h.Eval = math.exp(h.logPval + math.log(h.N_searched))\n",
    "    h.logEval = h.logPval + math.log(h.N_searched)\n",
    "    if h.logPval < -10.0:\n",
    "        x = h.logPval\n",
    "    else:\n",
    "        x = math.log(-math.log(1-h.Pval))\n",
    "    h.score_aass = x/0.45 - min(h.lamda*h.score_ss,max(0.0,0.2*(h.score-8.0)))/0.45 - 3.0\n",
    "    h.Probab = Probab(-h.score_aass)\n",
    "\n",
    "def calc_hidden_output(weights, bias, Lqnorm, Ltnorm, Nqnorm, Ntnorm):\n",
    "    \"Calculate output of hidden neural network units\"\n",
    "    # Calculate activation of hidden unit = sum of all inputs * weights + bias\n",
    "    res = Lqnorm*weights[0] + Ltnorm*weights[1] + Nqnorm*weights[2] + Ntnorm*weights[3] + bias\n",
    "    res = 1.0 / (1.0 + math.exp(-(res))) # logistic function\n",
    "    return res\n",
    "\n",
    "def lamda_NN(Lqnorm, Ltnorm, Nqnorm, Ntnorm):\n",
    "    \"Neural network regressions of lamda for EVD\"\n",
    "    inputs = 4\n",
    "    hidden = 4\n",
    "    biases = [-0.73195, -1.43792, -1.18839, -3.01141] # bias for all hidden units\n",
    "    weights = [ # Weights for the neural networks (column = start unit, row = end unit)\n",
    "    -0.52356, -3.37650, 1.12984, -0.46796,\n",
    "    -4.71361, 0.14166, 1.66807, 0.16383,\n",
    "    -0.94895, -1.24358, -1.20293, 0.95434,\n",
    "    -0.00318, 0.53022, -0.04914, -0.77046,\n",
    "    2.45630, 3.02905, 2.53803, 2.64379\n",
    "    ]\n",
    "    lamda=0.0\n",
    "    for h in range(hidden):\n",
    "        lamda += calc_hidden_output(weights[inputs*h:], biases[h], Lqnorm,Ltnorm,Nqnorm,Ntnorm) * weights[hidden*inputs+h]\n",
    "    return lamda\n",
    "\n",
    "def mu_NN(Lqnorm, Ltnorm, Nqnorm, Ntnorm):\n",
    "    \"Neural network regressions of mu for EVD\"\n",
    "    inputs = 4\n",
    "    hidden = 6\n",
    "    biases = [-4.25264, -3.63484, -5.86653, -4.78472, -2.76356, -2.21580]  # bias for all hidden units\n",
    "    weights = [ # Weights for the neural networks (column = start unit, row = end unit)\n",
    "    1.96172, 1.07181, -7.41256, 0.26471,\n",
    "    0.84643, 1.46777, -1.04800, -0.51425,\n",
    "    1.42697, 1.99927, 0.64647, 0.27834,\n",
    "    1.34216, 1.64064, 0.35538, -8.08311,\n",
    "    2.30046, 1.31700, -0.46435, -0.46803,\n",
    "    0.90090, -3.53067, 0.59212, 1.47503,\n",
    "    -1.26036, 1.52812, 1.58413, -1.90409, 0.92803, -0.66871\n",
    "    ]\n",
    "    mu=0.0\n",
    "    for h in range(hidden):\n",
    "        mu += calc_hidden_output(weights[inputs*h:], biases[h], Lqnorm,Ltnorm,Nqnorm,Ntnorm) * weights[hidden*inputs+h]\n",
    "    return 20.0*mu\n",
    "\n",
    "def Pvalue(x, lamda, mu):\n",
    "    h = lamda*(x-mu)\n",
    "    if h > 10:\n",
    "        return math.exp(-h)\n",
    "    else:\n",
    "        return 1.0 - math.exp(-math.exp(-h))\n",
    "\n",
    "def logPvalue(x, lamda, mu):\n",
    "    h = lamda*(x-mu)\n",
    "    if h > 10:\n",
    "        return -h\n",
    "    else:\n",
    "        if h < -2.5:\n",
    "            return -math.exp(-math.exp(-h))\n",
    "        else:\n",
    "            return math.log((1.0 - math.exp(-math.exp(-h))))\n",
    "\n",
    "def Probab(s):\n",
    "    \"\"\"\n",
    "    Calculate probability of true positive : p_TP(score)/( p_TP(score)+p_FP(score) )\n",
    "    TP: same superfamily OR MAXSUB score >=0.1\n",
    "    \"\"\"\n",
    "    if s > 200:\n",
    "        return 100.0\n",
    "    # local no SS\n",
    "    a=math.sqrt(4000.0)\n",
    "    b=2.0*2.5\n",
    "    c=math.sqrt(0.15)\n",
    "    d=2.0*34.0\n",
    "    t = a*math.exp(-s/b) + c*math.exp(-s/d)\n",
    "    return 100.0/(1.0+t*t) # ??? JS Jul'12"
   ]
  },
  {
   "cell_type": "markdown",
   "metadata": {},
   "source": [
    "Check it with BHJJX25971_pp1ab_1-7195 vs. PF06471.9 hit (C++ result is Probab = 91.42, Pval = 8.9388e-7):"
   ]
  },
  {
   "cell_type": "code",
   "execution_count": 45,
   "metadata": {},
   "outputs": [
    {
     "name": "stdout",
     "output_type": "stream",
     "text": [
      "91.42669598316857\n",
      "8.938825760431401e-07\n"
     ]
    }
   ],
   "source": [
    "# feel free to fill in the attributes of another hit (Neff can be found in HMM profile)\n",
    "hit = Hit(score=69.407066,\n",
    "    score_ss=0,\n",
    "    q_Neff=1.0,\n",
    "    t_Neff=2.7,\n",
    "    q_L=7195,\n",
    "    t_L=584,\n",
    "    N_searched=1,\n",
    "    )\n",
    "CalculatePvalues(hit)\n",
    "print(hit.Probab)\n",
    "print(hit.Pval)"
   ]
  },
  {
   "cell_type": "markdown",
   "metadata": {},
   "source": [
    "## How calibration procedure works"
   ]
  },
  {
   "cell_type": "markdown",
   "metadata": {},
   "source": [
    "Thus the results correspond to the reported by HHsearch p-, e-value and probability.\n",
    "Now plot the graphs in order to study how the calibration affects the reported values depending on the query / target HMM lengths."
   ]
  },
  {
   "cell_type": "code",
   "execution_count": 46,
   "metadata": {},
   "outputs": [],
   "source": [
    "def getPvalueLen(q_len, t_len):\n",
    "    h.q_L = q_len\n",
    "    h.t_L = t_len\n",
    "    CalculatePvalues(h)\n",
    "    return h.Pval\n",
    "\n",
    "def getProbabLen(q_len, t_len):\n",
    "    h.q_L = q_len\n",
    "    h.t_L = t_len\n",
    "    CalculatePvalues(h)\n",
    "    return h.Probab\n",
    "\n",
    "def getPvalueNeff(q_Neff, t_Neff):\n",
    "    h.q_Neff = q_Neff\n",
    "    h.t_Neff = t_Neff\n",
    "    CalculatePvalues(h)\n",
    "    return h.Pval\n",
    "\n",
    "def getProbabNeff(q_Neff, t_Neff):\n",
    "    h.q_Neff = q_Neff\n",
    "    h.t_Neff = t_Neff\n",
    "    CalculatePvalues(h)\n",
    "    return h.Probab"
   ]
  },
  {
   "cell_type": "code",
   "execution_count": 47,
   "metadata": {},
   "outputs": [],
   "source": [
    "q_len_log = np.linspace(1, 10, 30)\n",
    "t_len_log = np.linspace(1, 10, 30)\n",
    "X,Y = np.meshgrid(np.exp(q_len_log), np.exp(t_len_log))\n",
    "\n",
    "def testLengths(Z, func):\n",
    "    for i, logx in enumerate(q_len_log):\n",
    "        for j, logy in enumerate(t_len_log):\n",
    "            x, y = math.exp(logx), math.exp(logy)\n",
    "            Z[i, j] = func(x, y)"
   ]
  },
  {
   "cell_type": "code",
   "execution_count": 48,
   "metadata": {},
   "outputs": [],
   "source": [
    "h = cp.copy(hit)\n",
    "\n",
    "Pval = X.copy()\n",
    "testLengths(Pval, getEvalueLen)\n",
    "\n",
    "Prob = X.copy()\n",
    "testLengths(Prob, getProbabLen)"
   ]
  },
  {
   "cell_type": "markdown",
   "metadata": {},
   "source": [
    "### P-value as a function of query / target lengths"
   ]
  },
  {
   "cell_type": "code",
   "execution_count": 49,
   "metadata": {},
   "outputs": [
    {
     "data": {
      "image/png": "[encoded data removed]",
      "text/plain": [
       "<Figure size 432x288 with 2 Axes>"
      ]
     },
     "metadata": {
      "needs_background": "light"
     },
     "output_type": "display_data"
    }
   ],
   "source": [
    "fig, ax = plt.subplots()\n",
    "ax.set_xscale(\"log\", nonposx='clip')\n",
    "ax.set_yscale(\"log\", nonposy='clip')\n",
    "sc = math.floor(h.score * 10) / 10\n",
    "ax.set_title('P-value\\n(score=' + str(sc) + ', Q/T Neff=' + str(h.q_Neff) + '/' + str(h.t_Neff)+ ')')\n",
    "ax.set_xlabel('Query HMM length')\n",
    "ax.set_ylabel('Target HMM length')\n",
    "\n",
    "p = ax.pcolor(X, Y, Pval, cmap=cm.RdBu, norm=LogNorm(vmin=Pval.min(), vmax=Pval.max()))\n",
    "# FIXME ax.plot(x=[hit.q_L], y=[hit.t_L], marker='Hit', linestyle='-', color='k')\n",
    "cb = fig.colorbar(p)\n"
   ]
  },
  {
   "cell_type": "markdown",
   "metadata": {},
   "source": [
    "### Probability as a function of query / target lengths"
   ]
  },
  {
   "cell_type": "code",
   "execution_count": 50,
   "metadata": {},
   "outputs": [
    {
     "data": {
      "image/png": "[encoded data removed]",
      "text/plain": [
       "<Figure size 432x288 with 2 Axes>"
      ]
     },
     "metadata": {
      "needs_background": "light"
     },
     "output_type": "display_data"
    }
   ],
   "source": [
    "fig, ax = plt.subplots()\n",
    "ax.set_xscale(\"log\", nonposx='clip')\n",
    "ax.set_yscale(\"log\", nonposy='clip')\n",
    "ax.set_title('Probability\\n(score=' + str(sc) + ', Q/T Neff=' + str(h.q_Neff) + '/' + str(h.t_Neff)+ ')')\n",
    "ax.set_xlabel('Query HMM length')\n",
    "ax.set_ylabel('Target HMM length')\n",
    "\n",
    "p = ax.pcolor(X, Y, Prob, cmap=cm.RdBu, vmin=Prob.min(), vmax=100)\n",
    "cb = fig.colorbar(p)"
   ]
  },
  {
   "cell_type": "code",
   "execution_count": 51,
   "metadata": {},
   "outputs": [],
   "source": [
    "q_neff = np.linspace(1, 20, 20)\n",
    "t_neff = np.linspace(1, 20, 20)\n",
    "X,Y = np.meshgrid(q_neff, t_neff)\n",
    "\n",
    "def testNeff(Z, func):\n",
    "    for i, x in enumerate(q_neff):\n",
    "        for j, y in enumerate(t_neff):\n",
    "            Z[i, j] = func(x, y)"
   ]
  },
  {
   "cell_type": "code",
   "execution_count": 54,
   "metadata": {},
   "outputs": [],
   "source": [
    "h = cp.copy(hit)\n",
    "\n",
    "Pval = X.copy()\n",
    "testNeff(Pval, getEvalueNeff)\n",
    "\n",
    "Prob = X.copy()\n",
    "testNeff(Prob, getProbabNeff)"
   ]
  },
  {
   "cell_type": "markdown",
   "metadata": {},
   "source": [
    "### P-value as a function of query / target diversities"
   ]
  },
  {
   "cell_type": "code",
   "execution_count": 55,
   "metadata": {},
   "outputs": [
    {
     "data": {
      "image/png": "[encoded data removed]",
      "text/plain": [
       "<Figure size 432x288 with 2 Axes>"
      ]
     },
     "metadata": {
      "needs_background": "light"
     },
     "output_type": "display_data"
    }
   ],
   "source": [
    "fig, ax = plt.subplots()\n",
    "ax.set_title('P-value\\n(score = ' + str(sc) + ', Q/T lengths = ' + str(h.q_L) + '/' + str(h.t_L) + ')')\n",
    "ax.set_xlabel('Query Neff')\n",
    "ax.set_ylabel('Target Neff')\n",
    "\n",
    "p = ax.pcolor(X, Y, Pval, cmap=cm.RdBu, norm=LogNorm(vmin=Pval.min(), vmax=Pval.max()))\n",
    "cb = fig.colorbar(p)"
   ]
  },
  {
   "cell_type": "markdown",
   "metadata": {},
   "source": [
    "### Probability as a function of query / target diversities"
   ]
  },
  {
   "cell_type": "code",
   "execution_count": 56,
   "metadata": {},
   "outputs": [
    {
     "data": {
      "image/png": "[encoded data removed]",
      "text/plain": [
       "<Figure size 432x288 with 2 Axes>"
      ]
     },
     "metadata": {
      "needs_background": "light"
     },
     "output_type": "display_data"
    }
   ],
   "source": [
    "fig, ax = plt.subplots()\n",
    "ax.set_title('Probability\\n(score = ' + str(sc) + ', Q/T lengths = ' + str(h.q_L) + '/' + str(h.t_L) + ')')\n",
    "ax.set_xlabel('Query Neff')\n",
    "ax.set_ylabel('Target Neff')\n",
    "\n",
    "p = ax.pcolor(X, Y, Prob, cmap=cm.RdBu, vmin=Prob.min(), vmax=100)\n",
    "cb = fig.colorbar(p)"
   ]
  },
  {
   "cell_type": "code",
   "execution_count": 58,
   "metadata": {},
   "outputs": [
    {
     "name": "stdout",
     "output_type": "stream",
     "text": [
      "[2.71828183e+00 3.70745192e+00 5.05657641e+00 6.89664101e+00\n",
      " 9.40629655e+00 1.28292040e+01 1.74976916e+01 2.38650201e+01\n",
      " 3.25493898e+01 4.43939611e+01 6.05487167e+01 8.25821127e+01\n",
      " 1.12633359e+02 1.53620113e+02 2.09521757e+02 2.85765748e+02\n",
      " 3.89754573e+02 5.31584447e+02 7.25025551e+02 9.88858971e+02\n",
      " 1.34870014e+03 1.83948584e+03 2.50886617e+03 3.42183089e+03\n",
      " 4.66701921e+03 6.36532576e+03 8.68163815e+03 1.18408458e+04\n",
      " 1.61496745e+04 2.20264658e+04]\n",
      "[1.20525842e-24 3.14760766e-22 3.87509915e-20 2.43928518e-18\n",
      " 8.52811068e-17 1.79326988e-15 2.44136525e-14 2.29895944e-13\n",
      " 1.58685402e-12 8.44044228e-12 3.60969173e-11 1.28635086e-10\n",
      " 3.93503930e-10 1.05906004e-09 2.55893782e-09 5.64370316e-09\n",
      " 1.15163578e-08 2.19843006e-08 3.96164234e-08 6.78903591e-08\n",
      " 1.11312064e-07 1.75488760e-07 2.67137600e-07 3.94016838e-07\n",
      " 5.64773618e-07 7.88712170e-07 1.07549674e-06 1.43481342e-06\n",
      " 1.87602241e-06 2.40783595e-06]\n"
     ]
    }
   ],
   "source": [
    "q_len_log = np.linspace(1, 10, 30)\n",
    "X = np.exp(q_len_log)\n",
    "\n",
    "def getEvalueLen1D(q_len):\n",
    "    h.q_L = q_len\n",
    "    CalculatePvalues(h)\n",
    "    return h.Eval\n",
    "\n",
    "def testLengths1D(Z, func):\n",
    "    for i, logx in enumerate(q_len_log):\n",
    "        x = math.exp(logx)\n",
    "        Z[i] = func(x)\n",
    "\n",
    "h = cp.copy(hit)\n",
    "\n",
    "Eval = X.copy()\n",
    "testLengths1D(Eval, getEvalueLen1D)\n",
    "print(X)\n",
    "print(Eval)"
   ]
  },
  {
   "cell_type": "code",
   "execution_count": 59,
   "metadata": {},
   "outputs": [],
   "source": [
    "# FIXME draw plot in log scale"
   ]
  },
  {
   "cell_type": "code",
   "execution_count": null,
   "metadata": {},
   "outputs": [],
   "source": []
  }
 ],
 "metadata": {
  "kernelspec": {
   "display_name": "Python 3",
   "language": "python",
   "name": "python3"
  },
  "language_info": {
   "codemirror_mode": {
    "name": "ipython",
    "version": 3
   },
   "file_extension": ".py",
   "mimetype": "text/x-python",
   "name": "python",
   "nbconvert_exporter": "python",
   "pygments_lexer": "ipython3",
   "version": "3.7.3"
  }
 },
 "nbformat": 4,
 "nbformat_minor": 1
}
